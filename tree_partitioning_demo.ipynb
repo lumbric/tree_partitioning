{
 "cells": [
  {
   "cell_type": "code",
   "execution_count": 37,
   "metadata": {
    "collapsed": false
   },
   "outputs": [],
   "source": [
    "import tree_partitioning\n",
    "from imp import reload; reload(tree_partitioning)   # only for fast testing\n",
    "from tree_partitioning import *"
   ]
  },
  {
   "cell_type": "code",
   "execution_count": 38,
   "metadata": {
    "collapsed": false
   },
   "outputs": [
    {
     "name": "stdout",
     "output_type": "stream",
     "text": [
      "|\n",
      "----+\n",
      "    |\n",
      "    ----+\n",
      "    |   |\n",
      "    |   ----+\n",
      "    |   |   |\n",
      "    |   |   ----+1.0\n",
      "    |   |   |\n",
      "    |   |   ----+1.0\n",
      "    |   |\n",
      "    |   ----+\n",
      "    |       |\n",
      "    |       ----+1.0\n",
      "    |       |\n",
      "    |       ----+1.0\n",
      "    |\n",
      "    ----+\n",
      "        |\n",
      "        ----+\n",
      "        |   |\n",
      "        |   ----+1.0\n",
      "        |   |\n",
      "        |   ----+1.0\n",
      "        |\n",
      "        ----+\n",
      "            |\n",
      "            ----+1.0\n",
      "            |\n",
      "            ----+1.0\n"
     ]
    }
   ],
   "source": [
    "tree = generate_random_tree(height=4, degree=2)\n",
    "tree.print_me()"
   ]
  },
  {
   "cell_type": "code",
   "execution_count": 39,
   "metadata": {
    "collapsed": false
   },
   "outputs": [
    {
     "data": {
      "text/plain": [
       "8.0"
      ]
     },
     "execution_count": 39,
     "metadata": {},
     "output_type": "execute_result"
    }
   ],
   "source": [
    "# calculate weight for non-leaves\n",
    "tree.root.calc_subtree_weights()"
   ]
  },
  {
   "cell_type": "code",
   "execution_count": 40,
   "metadata": {
    "collapsed": false
   },
   "outputs": [
    {
     "name": "stdout",
     "output_type": "stream",
     "text": [
      "|\n",
      "----+8.0\n",
      "    |\n",
      "    ----+4.0\n",
      "    |   |\n",
      "    |   ----+2.0\n",
      "    |   |   |\n",
      "    |   |   ----+1.0\n",
      "    |   |   |\n",
      "    |   |   ----+1.0\n",
      "    |   |\n",
      "    |   ----+2.0\n",
      "    |       |\n",
      "    |       ----+1.0\n",
      "    |       |\n",
      "    |       ----+1.0\n",
      "    |\n",
      "    ----+4.0\n",
      "        |\n",
      "        ----+2.0\n",
      "        |   |\n",
      "        |   ----+1.0\n",
      "        |   |\n",
      "        |   ----+1.0\n",
      "        |\n",
      "        ----+2.0\n",
      "            |\n",
      "            ----+1.0\n",
      "            |\n",
      "            ----+1.0\n"
     ]
    }
   ],
   "source": [
    "# now all nodes have weights\n",
    "tree.root.print_subtree()"
   ]
  },
  {
   "cell_type": "code",
   "execution_count": 41,
   "metadata": {
    "collapsed": false
   },
   "outputs": [
    {
     "data": {
      "text/plain": [
       "'[root -> 1 -> 2 -> 2]'"
      ]
     },
     "execution_count": 41,
     "metadata": {},
     "output_type": "execute_result"
    }
   ],
   "source": [
    "# we can get a subtree by its path from root\n",
    "subtree = tree.root.subtree_by_path([0,1,1])   # this is a Node object, not a Tree\n",
    "\n",
    "# each node/subtree where it lives     FIXME this is off by 1, how ugly!\n",
    "str(subtree)"
   ]
  },
  {
   "cell_type": "code",
   "execution_count": 42,
   "metadata": {
    "collapsed": false
   },
   "outputs": [
    {
     "name": "stdout",
     "output_type": "stream",
     "text": [
      "[root -> 1 -> 2]\n",
      "['[root -> 1 -> 2 -> 1]', '[root -> 1 -> 2 -> 2]']\n"
     ]
    }
   ],
   "source": [
    "# each node has parents or children or None\n",
    "\n",
    "print(subtree.parent)\n",
    "print([str(child) for child in subtree.parent.children])"
   ]
  },
  {
   "cell_type": "code",
   "execution_count": 43,
   "metadata": {
    "collapsed": false
   },
   "outputs": [
    {
     "name": "stdout",
     "output_type": "stream",
     "text": [
      "weight_error =  0.04000000000000007\n",
      "\n",
      "partiton:\n",
      "[root -> 1 -> 1]\n",
      "[root -> 1 -> 2]\n",
      "[root -> 2 -> 1]\n",
      "[root -> 2 -> 2]\n"
     ]
    }
   ],
   "source": [
    "# finding a partion means we get the roots of \n",
    "weight_error, subtrees = tree.root.find_partition(target_weight=1.9)\n",
    "\n",
    "def print_partiton(weight_error, subtrees):\n",
    "    print(\"weight_error = \", weight_error)\n",
    "    print(\"\\npartiton:\")\n",
    "    print(\"\\n\".join(str(subtree) for subtree in subtrees))\n",
    "    \n",
    "print_partiton(weight_error, subtrees)"
   ]
  },
  {
   "cell_type": "code",
   "execution_count": 44,
   "metadata": {
    "collapsed": false
   },
   "outputs": [
    {
     "name": "stdout",
     "output_type": "stream",
     "text": [
      "weight_error =  0.0\n",
      "\n",
      "partiton:\n",
      "[root -> 1 -> 1]\n",
      "[root -> 1 -> 2]\n",
      "[root -> 2 -> 1]\n",
      "[root -> 2 -> 2]\n"
     ]
    }
   ],
   "source": [
    "# wanna have partition n subtrees, don't care about target weight..\n",
    "n_subtrees = 4\n",
    "target_weight = tree.root.weight / n_subtrees\n",
    "\n",
    "weight_error, subtrees = tree.root.find_partition(target_weight=target_weight)\n",
    "print_partiton(weight_error, subtrees)"
   ]
  },
  {
   "cell_type": "code",
   "execution_count": 54,
   "metadata": {
    "collapsed": false
   },
   "outputs": [],
   "source": [
    "# lets have fun with real trees\n",
    "tree = generate_random_tree(height=13, avg_degree=3)"
   ]
  },
  {
   "cell_type": "code",
   "execution_count": 53,
   "metadata": {
    "collapsed": false
   },
   "outputs": [
    {
     "data": {
      "text/plain": [
       "797161"
      ]
     },
     "execution_count": 53,
     "metadata": {},
     "output_type": "execute_result"
    }
   ],
   "source": [
    "# almost a million vertices\n",
    "len(tree.get_nodes())"
   ]
  },
  {
   "cell_type": "code",
   "execution_count": 64,
   "metadata": {
    "collapsed": false
   },
   "outputs": [
    {
     "name": "stdout",
     "output_type": "stream",
     "text": [
      "weight_error =  0.0\n",
      "\n",
      "partiton:\n",
      "[root -> 1 -> 1 -> 1 -> 1]\n",
      "[root -> 1 -> 1 -> 1 -> 2]\n",
      "[root -> 1 -> 1 -> 1 -> 3]\n",
      "[root -> 1 -> 1 -> 2 -> 1]\n",
      "[root -> 1 -> 1 -> 2 -> 2]\n",
      "[root -> 1 -> 1 -> 2 -> 3]\n",
      "[root -> 1 -> 1 -> 3 -> 1]\n",
      "[root -> 1 -> 1 -> 3 -> 2]\n",
      "[root -> 1 -> 1 -> 3 -> 3]\n",
      "[root -> 1 -> 2 -> 1 -> 1]\n",
      "[root -> 1 -> 2 -> 1 -> 2]\n",
      "[root -> 1 -> 2 -> 1 -> 3]\n",
      "[root -> 1 -> 2 -> 2 -> 1]\n",
      "[root -> 1 -> 2 -> 2 -> 2]\n",
      "[root -> 1 -> 2 -> 2 -> 3]\n",
      "[root -> 1 -> 2 -> 3 -> 1]\n",
      "[root -> 1 -> 2 -> 3 -> 2]\n",
      "[root -> 1 -> 2 -> 3 -> 3]\n",
      "[root -> 1 -> 3 -> 1 -> 1]\n",
      "[root -> 1 -> 3 -> 1 -> 2]\n",
      "[root -> 1 -> 3 -> 1 -> 3]\n",
      "[root -> 1 -> 3 -> 2 -> 1]\n",
      "[root -> 1 -> 3 -> 2 -> 2]\n",
      "[root -> 1 -> 3 -> 2 -> 3]\n",
      "[root -> 1 -> 3 -> 3 -> 1]\n",
      "[root -> 1 -> 3 -> 3 -> 2]\n",
      "[root -> 1 -> 3 -> 3 -> 3]\n",
      "[root -> 2 -> 1 -> 1 -> 1]\n",
      "[root -> 2 -> 1 -> 1 -> 2]\n",
      "[root -> 2 -> 1 -> 1 -> 3]\n",
      "[root -> 2 -> 1 -> 2 -> 1]\n",
      "[root -> 2 -> 1 -> 2 -> 2]\n",
      "[root -> 2 -> 1 -> 2 -> 3]\n",
      "[root -> 2 -> 1 -> 3 -> 1]\n",
      "[root -> 2 -> 1 -> 3 -> 2]\n",
      "[root -> 2 -> 1 -> 3 -> 3]\n",
      "[root -> 2 -> 2 -> 1 -> 1]\n",
      "[root -> 2 -> 2 -> 1 -> 2]\n",
      "[root -> 2 -> 2 -> 1 -> 3]\n",
      "[root -> 2 -> 2 -> 2 -> 1]\n",
      "[root -> 2 -> 2 -> 2 -> 2]\n",
      "[root -> 2 -> 2 -> 2 -> 3]\n",
      "[root -> 2 -> 2 -> 3 -> 1]\n",
      "[root -> 2 -> 2 -> 3 -> 2]\n",
      "[root -> 2 -> 2 -> 3 -> 3]\n",
      "[root -> 2 -> 3 -> 1 -> 1]\n",
      "[root -> 2 -> 3 -> 1 -> 2]\n",
      "[root -> 2 -> 3 -> 1 -> 3]\n",
      "[root -> 2 -> 3 -> 2 -> 1]\n",
      "[root -> 2 -> 3 -> 2 -> 2]\n",
      "[root -> 2 -> 3 -> 2 -> 3]\n",
      "[root -> 2 -> 3 -> 3 -> 1]\n",
      "[root -> 2 -> 3 -> 3 -> 2]\n",
      "[root -> 2 -> 3 -> 3 -> 3]\n",
      "[root -> 3 -> 1 -> 1 -> 1]\n",
      "[root -> 3 -> 1 -> 1 -> 2]\n",
      "[root -> 3 -> 1 -> 1 -> 3]\n",
      "[root -> 3 -> 1 -> 2 -> 1]\n",
      "[root -> 3 -> 1 -> 2 -> 2]\n",
      "[root -> 3 -> 1 -> 2 -> 3]\n",
      "[root -> 3 -> 1 -> 3 -> 1]\n",
      "[root -> 3 -> 1 -> 3 -> 2]\n",
      "[root -> 3 -> 1 -> 3 -> 3]\n",
      "[root -> 3 -> 2 -> 1 -> 1]\n",
      "[root -> 3 -> 2 -> 1 -> 2]\n",
      "[root -> 3 -> 2 -> 1 -> 3]\n",
      "[root -> 3 -> 2 -> 2 -> 1]\n",
      "[root -> 3 -> 2 -> 2 -> 2]\n",
      "[root -> 3 -> 2 -> 2 -> 3]\n",
      "[root -> 3 -> 2 -> 3 -> 1]\n",
      "[root -> 3 -> 2 -> 3 -> 2]\n",
      "[root -> 3 -> 2 -> 3 -> 3]\n",
      "[root -> 3 -> 3 -> 1 -> 1]\n",
      "[root -> 3 -> 3 -> 1 -> 2]\n",
      "[root -> 3 -> 3 -> 1 -> 3]\n",
      "[root -> 3 -> 3 -> 2 -> 1]\n",
      "[root -> 3 -> 3 -> 2 -> 2]\n",
      "[root -> 3 -> 3 -> 2 -> 3]\n",
      "[root -> 3 -> 3 -> 3 -> 1]\n",
      "[root -> 3 -> 3 -> 3 -> 2]\n",
      "[root -> 3 -> 3 -> 3 -> 3]\n",
      "partition size =  81\n"
     ]
    }
   ],
   "source": [
    "tree.root.calc_subtree_weights()\n",
    "\n",
    "n_subtrees = 81\n",
    "target_weight = tree.root.weight / n_subtrees\n",
    "\n",
    "weight_error, subtrees = tree.root.find_partition(target_weight=target_weight)\n",
    "print_partiton(weight_error, subtrees)\n",
    "\n",
    "print(\"partition size = \", len(subtrees))"
   ]
  },
  {
   "cell_type": "code",
   "execution_count": null,
   "metadata": {
    "collapsed": true
   },
   "outputs": [],
   "source": []
  }
 ],
 "metadata": {
  "kernelspec": {
   "display_name": "Python 3",
   "language": "python",
   "name": "python3"
  },
  "language_info": {
   "codemirror_mode": {
    "name": "ipython",
    "version": 3
   },
   "file_extension": ".py",
   "mimetype": "text/x-python",
   "name": "python",
   "nbconvert_exporter": "python",
   "pygments_lexer": "ipython3",
   "version": "3.4.3+"
  }
 },
 "nbformat": 4,
 "nbformat_minor": 0
}
